{
 "cells": [
  {
   "cell_type": "code",
   "execution_count": 69,
   "id": "6fd8d443",
   "metadata": {},
   "outputs": [],
   "source": [
    "# import our libraries\n",
    "import pandas as pd\n",
    "%matplotlib inline"
   ]
  },
  {
   "cell_type": "code",
   "execution_count": 70,
   "id": "ae3ac51a",
   "metadata": {},
   "outputs": [],
   "source": [
    "# note for ollie - believe I have to add this somewhere to print more than 5 rows in my dataset but not sure where to apply\n",
    "# or if this is even correct for that matter lol\n",
    "\n",
    "pd.set_option('display.max.rows', None)"
   ]
  },
  {
   "cell_type": "code",
   "execution_count": 71,
   "id": "8bbd1308",
   "metadata": {},
   "outputs": [],
   "source": [
    "import matplotlib.pyplot as plt"
   ]
  },
  {
   "cell_type": "code",
   "execution_count": 72,
   "id": "5693d2dd",
   "metadata": {},
   "outputs": [],
   "source": [
    "# tell python where the file is using variable 'path'\n",
    "path = 'Apprentice_Data_Set.csv'"
   ]
  },
  {
   "cell_type": "code",
   "execution_count": 73,
   "id": "acbf6f38",
   "metadata": {},
   "outputs": [],
   "source": [
    "# setting variable for my data set as 'dataset'\n",
    "dataset = pd.read_csv(path)"
   ]
  },
  {
   "cell_type": "code",
   "execution_count": 135,
   "id": "a3a06dc3",
   "metadata": {
    "scrolled": true
   },
   "outputs": [
    {
     "data": {
      "text/html": [
       "<div>\n",
       "<style scoped>\n",
       "    .dataframe tbody tr th:only-of-type {\n",
       "        vertical-align: middle;\n",
       "    }\n",
       "\n",
       "    .dataframe tbody tr th {\n",
       "        vertical-align: top;\n",
       "    }\n",
       "\n",
       "    .dataframe thead th {\n",
       "        text-align: right;\n",
       "    }\n",
       "</style>\n",
       "<table border=\"1\" class=\"dataframe\">\n",
       "  <thead>\n",
       "    <tr style=\"text-align: right;\">\n",
       "      <th></th>\n",
       "      <th>Name</th>\n",
       "      <th>Spirit Animal</th>\n",
       "      <th>Dream Destination</th>\n",
       "      <th>Favourite Tube Line</th>\n",
       "      <th>Lifelong Sandwich</th>\n",
       "    </tr>\n",
       "  </thead>\n",
       "  <tbody>\n",
       "    <tr>\n",
       "      <th>0</th>\n",
       "      <td>Tilly</td>\n",
       "      <td>Cat</td>\n",
       "      <td>Tokyo</td>\n",
       "      <td>Overground</td>\n",
       "      <td>BLT</td>\n",
       "    </tr>\n",
       "    <tr>\n",
       "      <th>1</th>\n",
       "      <td>Jiaze Li</td>\n",
       "      <td>Dog</td>\n",
       "      <td>Iceland</td>\n",
       "      <td>Elizabeth</td>\n",
       "      <td>New Yorker</td>\n",
       "    </tr>\n",
       "    <tr>\n",
       "      <th>2</th>\n",
       "      <td>Shi Shi</td>\n",
       "      <td>Dog</td>\n",
       "      <td>Greece</td>\n",
       "      <td>Elizabeth</td>\n",
       "      <td>New Yorker</td>\n",
       "    </tr>\n",
       "    <tr>\n",
       "      <th>3</th>\n",
       "      <td>Jana</td>\n",
       "      <td>Otter</td>\n",
       "      <td>Japan</td>\n",
       "      <td>Elizabeth</td>\n",
       "      <td>Smoked Salmon Cream Cheese</td>\n",
       "    </tr>\n",
       "    <tr>\n",
       "      <th>4</th>\n",
       "      <td>Wen</td>\n",
       "      <td>Deer</td>\n",
       "      <td>Antarctica</td>\n",
       "      <td>Elizabeth Line</td>\n",
       "      <td>I hate sandwich</td>\n",
       "    </tr>\n",
       "  </tbody>\n",
       "</table>\n",
       "</div>"
      ],
      "text/plain": [
       "       Name Spirit Animal Dream Destination Favourite Tube Line  \\\n",
       "0     Tilly           Cat             Tokyo          Overground   \n",
       "1  Jiaze Li           Dog           Iceland           Elizabeth   \n",
       "2   Shi Shi           Dog            Greece           Elizabeth   \n",
       "3      Jana         Otter             Japan           Elizabeth   \n",
       "4       Wen          Deer        Antarctica      Elizabeth Line   \n",
       "\n",
       "            Lifelong Sandwich  \n",
       "0                         BLT  \n",
       "1                  New Yorker  \n",
       "2                  New Yorker  \n",
       "3  Smoked Salmon Cream Cheese  \n",
       "4            I hate sandwich   "
      ]
     },
     "execution_count": 135,
     "metadata": {},
     "output_type": "execute_result"
    }
   ],
   "source": [
    "# showing dataset\n",
    "dataset"
   ]
  },
  {
   "cell_type": "code",
   "execution_count": 129,
   "id": "57acb4ec",
   "metadata": {},
   "outputs": [
    {
     "name": "stdout",
     "output_type": "stream",
     "text": [
      "       Name Spirit Animal Dream Destination Favourite Tube Line  \\\n",
      "0     Tilly           Cat             Tokyo          Overground   \n",
      "1  Jiaze Li           Dog           Iceland           Elizabeth   \n",
      "2   Shi Shi           Dog            Greece           Elizabeth   \n",
      "3      Jana         Otter             Japan           Elizabeth   \n",
      "4       Wen          Deer        Antarctica      Elizabeth Line   \n",
      "\n",
      "            Lifelong Sandwich  \n",
      "0                         BLT  \n",
      "1                  New Yorker  \n",
      "2                  New Yorker  \n",
      "3  Smoked Salmon Cream Cheese  \n",
      "4            I hate sandwich   \n"
     ]
    },
    {
     "data": {
      "text/plain": [
       "[\"'#' is not recognized as an internal or external command,\",\n",
       " 'operable program or batch file.']"
      ]
     },
     "execution_count": 129,
     "metadata": {},
     "output_type": "execute_result"
    }
   ],
   "source": [
    "# changing all forms of 'dog' to be uniform so as not to confuse python with a different answer to 'Dog' for instance\n",
    "# using capitalize function\n",
    "\n",
    "dataset['Spirit Animal'] = dataset['Spirit Animal'].str.capitalize()\n",
    "\n",
    "print(dataset.head())\n",
    "!! # still not sure how to print all rows"
   ]
  },
  {
   "cell_type": "code",
   "execution_count": 127,
   "id": "1a96609b",
   "metadata": {},
   "outputs": [
    {
     "data": {
      "text/html": [
       "<div>\n",
       "<style scoped>\n",
       "    .dataframe tbody tr th:only-of-type {\n",
       "        vertical-align: middle;\n",
       "    }\n",
       "\n",
       "    .dataframe tbody tr th {\n",
       "        vertical-align: top;\n",
       "    }\n",
       "\n",
       "    .dataframe thead th {\n",
       "        text-align: right;\n",
       "    }\n",
       "</style>\n",
       "<table border=\"1\" class=\"dataframe\">\n",
       "  <thead>\n",
       "    <tr style=\"text-align: right;\">\n",
       "      <th></th>\n",
       "      <th>Name</th>\n",
       "      <th>Spirit Animal</th>\n",
       "      <th>Dream Destination</th>\n",
       "      <th>Favourite Tube Line</th>\n",
       "      <th>Lifelong Sandwich</th>\n",
       "    </tr>\n",
       "  </thead>\n",
       "  <tbody>\n",
       "    <tr>\n",
       "      <th>0</th>\n",
       "      <td>Tilly</td>\n",
       "      <td>Cat</td>\n",
       "      <td>Tokyo</td>\n",
       "      <td>Overground</td>\n",
       "      <td>BLT</td>\n",
       "    </tr>\n",
       "    <tr>\n",
       "      <th>1</th>\n",
       "      <td>Jiaze Li</td>\n",
       "      <td>Dog</td>\n",
       "      <td>Iceland</td>\n",
       "      <td>Elizabeth</td>\n",
       "      <td>New Yorker</td>\n",
       "    </tr>\n",
       "    <tr>\n",
       "      <th>2</th>\n",
       "      <td>Shi Shi</td>\n",
       "      <td>Dog</td>\n",
       "      <td>Greece</td>\n",
       "      <td>Elizabeth</td>\n",
       "      <td>New Yorker</td>\n",
       "    </tr>\n",
       "    <tr>\n",
       "      <th>3</th>\n",
       "      <td>Jana</td>\n",
       "      <td>Otter</td>\n",
       "      <td>Japan</td>\n",
       "      <td>Elizabeth</td>\n",
       "      <td>Smoked Salmon Cream Cheese</td>\n",
       "    </tr>\n",
       "    <tr>\n",
       "      <th>4</th>\n",
       "      <td>Wen</td>\n",
       "      <td>Deer</td>\n",
       "      <td>Antarctica</td>\n",
       "      <td>Elizabeth Line</td>\n",
       "      <td>I hate sandwich</td>\n",
       "    </tr>\n",
       "  </tbody>\n",
       "</table>\n",
       "</div>"
      ],
      "text/plain": [
       "       Name Spirit Animal Dream Destination Favourite Tube Line  \\\n",
       "0     Tilly           Cat             Tokyo          Overground   \n",
       "1  Jiaze Li           Dog           Iceland           Elizabeth   \n",
       "2   Shi Shi           Dog            Greece           Elizabeth   \n",
       "3      Jana         Otter             Japan           Elizabeth   \n",
       "4       Wen          Deer        Antarctica      Elizabeth Line   \n",
       "\n",
       "            Lifelong Sandwich  \n",
       "0                         BLT  \n",
       "1                  New Yorker  \n",
       "2                  New Yorker  \n",
       "3  Smoked Salmon Cream Cheese  \n",
       "4            I hate sandwich   "
      ]
     },
     "execution_count": 127,
     "metadata": {},
     "output_type": "execute_result"
    }
   ],
   "source": [
    "# making this the new format for the list dataset by overwriting the original to become the equivalent of 'dataset.head()'\n",
    "\n",
    "dataset = dataset.head()\n",
    "\n",
    "dataset"
   ]
  },
  {
   "cell_type": "code",
   "execution_count": 128,
   "id": "6e766127",
   "metadata": {},
   "outputs": [
    {
     "name": "stdout",
     "output_type": "stream",
     "text": [
      "       Name Spirit Animal Dream Destination Favourite Tube Line  \\\n",
      "0     Tilly           Cat             Tokyo          Overground   \n",
      "1  Jiaze Li           Dog           Iceland           Elizabeth   \n",
      "2   Shi Shi           Dog            Greece           Elizabeth   \n",
      "3      Jana         Otter             Japan           Elizabeth   \n",
      "4       Wen          Deer        Antarctica      Elizabeth Line   \n",
      "\n",
      "            Lifelong Sandwich  \n",
      "0                         BLT  \n",
      "1                  New Yorker  \n",
      "2                  New Yorker  \n",
      "3  Smoked Salmon Cream Cheese  \n",
      "4            I hate sandwich   \n"
     ]
    }
   ],
   "source": [
    "# same with destinations because Iceland was written without a capital 'i'\n",
    "# whilst this does not affect my results in this case as there is no duplicate answer, it is good practice to format my data\n",
    "\n",
    "dataset['Dream Destination'] = dataset['Dream Destination'].str.capitalize()\n",
    "\n",
    "print(dataset.head())"
   ]
  },
  {
   "cell_type": "code",
   "execution_count": 102,
   "id": "feb2b933",
   "metadata": {},
   "outputs": [
    {
     "name": "stdout",
     "output_type": "stream",
     "text": [
      "0    Overground\n",
      "1     Elizabeth\n",
      "2     Elizabeth\n",
      "3     Elizabeth\n",
      "4     Elizabeth\n",
      "Name: Favourite Tube Line, dtype: object\n"
     ]
    }
   ],
   "source": [
    "# further tidying up my dataset by removing Wen's addition of 'Line' after 'Elizabeth'\n",
    "\n",
    "def get_line_name(mystr):\n",
    "    return str.split(mystr)[0]\n",
    "\n",
    "tube = dataset[\"Favourite Tube Line\"].apply(get_line_name)\n",
    "print(tube)"
   ]
  },
  {
   "cell_type": "code",
   "execution_count": 79,
   "id": "04b41b09",
   "metadata": {},
   "outputs": [
    {
     "data": {
      "text/plain": [
       "[]"
      ]
     },
     "execution_count": 79,
     "metadata": {},
     "output_type": "execute_result"
    }
   ],
   "source": [
    "# changing the answers of 'Tokyo' to Japan to format the answers as countries instead of cities\n",
    "# another option I have is to make this into a dictionary and set 'Japan' as the key with Tokyo as the value\n",
    "# ... This would be useful for working with greater, more detailed data\n",
    "# in the future I should be more specific in my question as to whether I intend on collecting data for countries or cities\n",
    "!!"
   ]
  },
  {
   "cell_type": "code",
   "execution_count": 11,
   "id": "4bbcbb90",
   "metadata": {},
   "outputs": [
    {
     "data": {
      "text/plain": [
       "array(['Tilly', 'Jiaze Li', 'Shi Shi', 'Jana', 'Wen'], dtype=object)"
      ]
     },
     "execution_count": 11,
     "metadata": {},
     "output_type": "execute_result"
    }
   ],
   "source": [
    "# these are the names of people who have answered my questionnaire\n",
    "\n",
    "dataset.Name.unique()"
   ]
  },
  {
   "cell_type": "code",
   "execution_count": 120,
   "id": "b92650f5",
   "metadata": {},
   "outputs": [
    {
     "name": "stdout",
     "output_type": "stream",
     "text": [
      "['BLT' 'New Yorker' 'Smoked Salmon Cream Cheese' 'I hate sandwich ']\n"
     ]
    }
   ],
   "source": [
    "# ... (note to self) dot notation does not work for column names with spaces\n",
    "# if spaces in column name, need to use [] square brackets and speech mark quotes\n",
    "\n",
    "# finding out the sandwiches which people dedicated themselves to eating for the rest of their lives\n",
    "# no one chose goats cheese, walnut and honey :(\n",
    "# ... tbh I wouldn't either\n",
    "\n",
    "print(dataset[\"Lifelong Sandwich\"].unique())\n",
    "\n",
    "# one of the people who answered my questionnaire hates sandwiches!"
   ]
  },
  {
   "cell_type": "code",
   "execution_count": 122,
   "id": "930fa01e",
   "metadata": {},
   "outputs": [
    {
     "ename": "SyntaxError",
     "evalue": "invalid syntax (3220630732.py, line 4)",
     "output_type": "error",
     "traceback": [
      "\u001b[1;36m  Cell \u001b[1;32mIn [122], line 4\u001b[1;36m\u001b[0m\n\u001b[1;33m    dataset.loc[dataset.\"Lifelong Sandwich\" == 'I hate sandwich ']\u001b[0m\n\u001b[1;37m                        ^\u001b[0m\n\u001b[1;31mSyntaxError\u001b[0m\u001b[1;31m:\u001b[0m invalid syntax\n"
     ]
    }
   ],
   "source": [
    "# let's find out who could possibly hate sandwiches?!?!\n",
    "!!\n",
    "\n",
    "dataset.loc[dataset.\"Lifelong Sandwich\" == 'I hate sandwich ']"
   ]
  },
  {
   "cell_type": "code",
   "execution_count": 103,
   "id": "2e6a7afd",
   "metadata": {},
   "outputs": [
    {
     "data": {
      "text/plain": [
       "0    Cat\n",
       "Name: Spirit Animal, dtype: object"
      ]
     },
     "execution_count": 103,
     "metadata": {},
     "output_type": "execute_result"
    }
   ],
   "source": [
    "# locate Tilly's name and then find out her spirit animal\n",
    "# Tilly's spirit animal is a cat\n",
    "\n",
    "dataset.loc[dataset.Name == 'Tilly', 'Spirit Animal']"
   ]
  },
  {
   "cell_type": "code",
   "execution_count": 111,
   "id": "157f9b19",
   "metadata": {},
   "outputs": [
    {
     "data": {
      "text/plain": [
       "Series([], Name: Spirit Animal, dtype: object)"
      ]
     },
     "execution_count": 111,
     "metadata": {},
     "output_type": "execute_result"
    }
   ],
   "source": [
    "# locate Kat's name and then find out her spirit animal\n",
    "# !! doesnt work because dataset is only showing first 5 rows help\n",
    "# Kat's spirit animal is a Rüppell's korhaan (which made me laugh)\n",
    "\n",
    "dataset.loc[dataset.Name == 'Kat', 'Spirit Animal']"
   ]
  },
  {
   "cell_type": "code",
   "execution_count": 137,
   "id": "7fd1859c",
   "metadata": {},
   "outputs": [
    {
     "ename": "NameError",
     "evalue": "name 'type_groupings' is not defined",
     "output_type": "error",
     "traceback": [
      "\u001b[1;31m---------------------------------------------------------------------------\u001b[0m",
      "\u001b[1;31mNameError\u001b[0m                                 Traceback (most recent call last)",
      "Cell \u001b[1;32mIn [137], line 1\u001b[0m\n\u001b[1;32m----> 1\u001b[0m \u001b[43mtype_groupings\u001b[49m[\u001b[38;5;124m'\u001b[39m\u001b[38;5;124mSpirit Animal\u001b[39m\u001b[38;5;124m'\u001b[39m]\u001b[38;5;241m.\u001b[39mdescribe()\n\u001b[0;32m      2\u001b[0m get_ipython()\u001b[38;5;241m.\u001b[39mgetoutput(\u001b[38;5;124m'\u001b[39m\u001b[38;5;124m'\u001b[39m)\n",
      "\u001b[1;31mNameError\u001b[0m: name 'type_groupings' is not defined"
     ]
    }
   ],
   "source": [
    "type_groupings['Spirit Animal'].describe()\n",
    "!!"
   ]
  },
  {
   "cell_type": "code",
   "execution_count": 113,
   "id": "b47d8048",
   "metadata": {},
   "outputs": [
    {
     "name": "stdout",
     "output_type": "stream",
     "text": [
      "1    Jiaze Li\n",
      "3        Jana\n",
      "Name: Name, dtype: object\n"
     ]
    }
   ],
   "source": [
    "# finding out people who's names start with the letter 'j' have partaken in my questionnaire\n",
    "\n",
    "first_name_j = dataset.loc[dataset[\"Name\"].str[0] == \"J\"][\"Name\"]\n",
    "print(first_name_j)"
   ]
  },
  {
   "cell_type": "code",
   "execution_count": 114,
   "id": "44c5e5aa",
   "metadata": {
    "scrolled": false
   },
   "outputs": [
    {
     "name": "stdout",
     "output_type": "stream",
     "text": [
      "number of dog lovers =  2\n"
     ]
    }
   ],
   "source": [
    "# finding out the number of people who consider their spirit animal as a dog\n",
    "\n",
    "num_dog_lovers = len(dog_lovers)\n",
    "print(\"number of dog lovers = \", num_dog_lovers)"
   ]
  },
  {
   "cell_type": "code",
   "execution_count": 115,
   "id": "51523e4f",
   "metadata": {},
   "outputs": [
    {
     "name": "stdout",
     "output_type": "stream",
     "text": [
      "       Name Spirit Animal Dream Destination Favourite Tube Line  \\\n",
      "1  Jiaze Li           Dog           Iceland           Elizabeth   \n",
      "2   Shi Shi           Dog            Greece           Elizabeth   \n",
      "\n",
      "  Lifelong Sandwich  \n",
      "1        New Yorker  \n",
      "2        New Yorker  \n"
     ]
    }
   ],
   "source": [
    "# finding out the details of the dog lovers\n",
    "# we can see that they both have the Elizabeth Line and New Yorker sandwiches in common as their favourites too\n",
    "# perhaps they could eat New Yorkers together on the Elizabeth Line whilst wagging their tails\n",
    "\n",
    "dog_lovers = dataset.loc[dataset[\"Spirit Animal\"] == \"Dog\"]\n",
    "print(dog_lovers)"
   ]
  }
 ],
 "metadata": {
  "kernelspec": {
   "display_name": "Python 3 (ipykernel)",
   "language": "python",
   "name": "python3"
  },
  "language_info": {
   "codemirror_mode": {
    "name": "ipython",
    "version": 3
   },
   "file_extension": ".py",
   "mimetype": "text/x-python",
   "name": "python",
   "nbconvert_exporter": "python",
   "pygments_lexer": "ipython3",
   "version": "3.11.0"
  }
 },
 "nbformat": 4,
 "nbformat_minor": 5
}
# testing merge conflicts - from Beth
